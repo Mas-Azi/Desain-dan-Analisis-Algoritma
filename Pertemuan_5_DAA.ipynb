{
  "nbformat": 4,
  "nbformat_minor": 0,
  "metadata": {
    "colab": {
      "provenance": [],
      "authorship_tag": "ABX9TyPDDnYEzklE+OzKGwhmEEE8",
      "include_colab_link": true
    },
    "kernelspec": {
      "name": "python3",
      "display_name": "Python 3"
    },
    "language_info": {
      "name": "python"
    }
  },
  "cells": [
    {
      "cell_type": "markdown",
      "metadata": {
        "id": "view-in-github",
        "colab_type": "text"
      },
      "source": [
        "<a href=\"https://colab.research.google.com/github/Mas-Azi/Desain-dan-Analisis-Algoritma/blob/main/Pertemuan_5_DAA.ipynb\" target=\"_parent\"><img src=\"https://colab.research.google.com/assets/colab-badge.svg\" alt=\"Open In Colab\"/></a>"
      ]
    },
    {
      "cell_type": "markdown",
      "source": [
        "Inversi dalam suatu array yang bertujuan untuk menghitung berapa banyak perubahan yang harus dilakukan untuk mengubah array menjadi bentuk yang urut.\n",
        "\n",
        "0 = 21, 70, 36, 14, 25\n",
        "1 = 21, 36, 70, 14, 25\n",
        "2 = 21, 36, 14, 70, 25\n",
        "3 = 21, 14, 36, 70, 25\n",
        "4 = 14, 21, 36, 70, 25\n",
        "5 = 14, 21, 36, 25, 70\n",
        "6 = 14, 21, 25, 36, 70\n",
        "\n",
        "\n",
        "\n",
        "\n"
      ],
      "metadata": {
        "id": "NnpsHgWDpsdK"
      }
    },
    {
      "cell_type": "code",
      "execution_count": 2,
      "metadata": {
        "id": "wA5maMANo5_f"
      },
      "outputs": [],
      "source": [
        "# Hitung inversi\n",
        "\n",
        "def countInversion(arr):\n",
        "  result = 0\n",
        "  for i in range(len(arr)):\n",
        "    for j in range(i+1, len(arr)):\n",
        "      if arr[i]>arr[j]:\n",
        "        result += 1\n",
        "  return result "
      ]
    },
    {
      "cell_type": "code",
      "source": [
        "arr = [21, 70, 36, 14, 25]"
      ],
      "metadata": {
        "id": "L8Cen6aIqLVJ"
      },
      "execution_count": 3,
      "outputs": []
    },
    {
      "cell_type": "code",
      "source": [
        "result = countInversion(arr)\n",
        "print(result)"
      ],
      "metadata": {
        "colab": {
          "base_uri": "https://localhost:8080/"
        },
        "id": "JrpNWUMrqn1i",
        "outputId": "ed4060d5-0343-4ddd-e1cb-c1d1400a3fd6"
      },
      "execution_count": 4,
      "outputs": [
        {
          "output_type": "stream",
          "name": "stdout",
          "text": [
            "6\n"
          ]
        }
      ]
    },
    {
      "cell_type": "markdown",
      "source": [
        "implementasi Algoritma \n",
        "inversi dalam suatu array"
      ],
      "metadata": {
        "id": "vH3_QWKcvaJS"
      }
    },
    {
      "cell_type": "code",
      "source": [
        "#hitung inversi dengan divide dan conquer\n",
        "\n",
        "def countInversion(arr):\n",
        "  icount = 0\n",
        "  if len(arr)<=1:\n",
        "    return icount\n",
        "  \n",
        "  mid = len(arr)//2\n",
        "  left = arr[:mid]\n",
        "  right =arr[mid:]\n",
        "  icount += countInversion(left)\n",
        "  icount += countInversion(right)\n",
        "  i = j = k = 0\n",
        "\n",
        "  #print(left)\n",
        "  #print(right)\n",
        "  while i < len(left) and j<len(right):\n",
        "    if left[i]<right[j]:\n",
        "      arr[k] = left[i]\n",
        "      i+=1\n",
        "    else:\n",
        "      #print(left[i], right[j])\n",
        "      arr[k] = right[j]\n",
        "      j+=1\n",
        "      icount +=(mid-i)\n",
        "    k+=1\n",
        "  while i<len(left):\n",
        "    arr[k] = left[i]\n",
        "    i+=1\n",
        "    k+=1\n",
        "  while j<len(right):\n",
        "    arr[k]=right[j]\n",
        "    j+=1\n",
        "    k+=1\n",
        "  return icount"
      ],
      "metadata": {
        "id": "idm2Tu22vYXQ"
      },
      "execution_count": 5,
      "outputs": []
    },
    {
      "cell_type": "code",
      "source": [
        "arr = [1, 20, 6, 4, 5]\n",
        "result = countInversion(arr)\n",
        "print(result)"
      ],
      "metadata": {
        "colab": {
          "base_uri": "https://localhost:8080/"
        },
        "id": "ocu92zF4xnsN",
        "outputId": "9460783f-761a-42ed-ac21-d1ad51ed1ecc"
      },
      "execution_count": 6,
      "outputs": [
        {
          "output_type": "stream",
          "name": "stdout",
          "text": [
            "5\n"
          ]
        }
      ]
    },
    {
      "cell_type": "markdown",
      "source": [
        "MAximum Subarray Sum \n",
        "mencari hasil penjumlahan terbesar dari satu array yang isinya nilai negatif dan positif.misalnya suatu array isinya {-2, -5, 6, -2,-3, 1, 5, -6}, maka penjumlahan terbesan disusun dari {-6, -2, 3, 1, 5} = 7"
      ],
      "metadata": {
        "id": "SArP6YPw6dDt"
      }
    },
    {
      "cell_type": "code",
      "source": [
        "# Tanpa Divide dan conquer\n",
        "def maxSubSum(arr):\n",
        "  max_so_far = 0\n",
        "  max_ending_here = 0\n",
        "  for i in range(len(arr)):\n",
        "    max_ending_here+=arr[i]\n",
        "    if max_ending_here>max_so_far:\n",
        "      max_so_far = max_ending_here\n",
        "    if max_ending_here<0:\n",
        "      max_ending_here=0\n",
        "  return max_so_far"
      ],
      "metadata": {
        "id": "YjrGo_Xm3nwd"
      },
      "execution_count": 4,
      "outputs": []
    },
    {
      "cell_type": "code",
      "source": [
        "arr =[-2, -5, 6, -2, -3, 1, 5, -6]\n",
        "result = maxSubSum(arr)\n",
        "print(result)"
      ],
      "metadata": {
        "colab": {
          "base_uri": "https://localhost:8080/"
        },
        "id": "B4vgy6ZF59u7",
        "outputId": "7d16c751-dfda-436a-b5d1-af4405ff10f3"
      },
      "execution_count": 3,
      "outputs": [
        {
          "output_type": "stream",
          "name": "stdout",
          "text": [
            "7\n"
          ]
        }
      ]
    },
    {
      "cell_type": "code",
      "source": [
        "def maxCrossingSum(arr, low, mid, high):\n",
        "  result =0; leftSum=float('-infinity')\n",
        "  for i in range(mid, low-1, -1):\n",
        "      result +=arr[i]\n",
        "      if result>leftSum:\n",
        "        leftSum = result \n",
        "  result =0; rightSum = float('-infinity')\n",
        "  for i in range(mid+1, high+1):\n",
        "      result +=arr[i]\n",
        "      if result>rightSum:\n",
        "        rightSum = result   \n",
        "  return leftSum+rightSum\n",
        "\n",
        "def maxSum(arr,low,high):\n",
        "  if low==high:\n",
        "    return arr[low]\n",
        "  mid=(low+high)//2\n",
        "  return max(maxSum(arr,low,mid), maxSum(arr,mid+1, high), maxCrossingSum(arr,low,mid,high))"
      ],
      "metadata": {
        "id": "lCKeKFbT7GDa"
      },
      "execution_count": 23,
      "outputs": []
    },
    {
      "cell_type": "code",
      "source": [
        "arr =[-2, -5, 6, -2, -3, 1, 5, -6]\n",
        "result = maxSum(arr, 0, len(arr)-1)\n",
        "print(result)"
      ],
      "metadata": {
        "colab": {
          "base_uri": "https://localhost:8080/"
        },
        "id": "KmfutqXI_Mpv",
        "outputId": "731dcbb0-5694-4604-eafd-c03ff31b4191"
      },
      "execution_count": 24,
      "outputs": [
        {
          "output_type": "stream",
          "name": "stdout",
          "text": [
            "7\n"
          ]
        }
      ]
    },
    {
      "cell_type": "code",
      "source": [
        "# dengan Devide dan conquer\n",
        "\n",
        "def commonPrefix(str1, str2):\n",
        "  n1 = len(str1); n2=len(str2)\n",
        "  i, j=0, 0\n",
        "  s=\"\"\n",
        "  while i<n1 and j<n2:\n",
        "    if str1[i]==str2[j]:\n",
        "        s+=str1[i]\n",
        "        i+=1\n",
        "        j+=1\n",
        "    else:\n",
        "      break\n",
        "  return s"
      ],
      "metadata": {
        "id": "DOyAHOHJDoP-"
      },
      "execution_count": 55,
      "outputs": []
    },
    {
      "cell_type": "code",
      "source": [
        "def longestCommonPrefix(arr, low, high):\n",
        "  if low==high:\n",
        "      return arr[low]\n",
        "  mid = (low+high)//2\n",
        "  result1=longestCommonPrefix(arr, low, mid)\n",
        "  result2=longestCommonPrefix(arr, mid+1, high)\n",
        "  result=commonPrefix(result1,result2)\n",
        "  return result"
      ],
      "metadata": {
        "id": "ZeEUID-x_8WY"
      },
      "execution_count": 52,
      "outputs": []
    },
    {
      "cell_type": "code",
      "source": [
        "arr = ['greeksforgeeks', 'geeks', 'geek','greezer']"
      ],
      "metadata": {
        "id": "EDJeahgfCMUl"
      },
      "execution_count": 53,
      "outputs": []
    },
    {
      "cell_type": "code",
      "source": [
        "result = longestCommonPrefix(arr,0,len(arr)-1)\n",
        "print(result)"
      ],
      "metadata": {
        "colab": {
          "base_uri": "https://localhost:8080/"
        },
        "id": "P_-fz8_bCXHJ",
        "outputId": "a8a78e52-78c8-48bc-cbae-34fd268bdf5c"
      },
      "execution_count": 57,
      "outputs": [
        {
          "output_type": "stream",
          "name": "stdout",
          "text": [
            "g\n"
          ]
        }
      ]
    },
    {
      "cell_type": "code",
      "source": [
        "arr = [\"apple\", \"ape\", \"april\"]\n",
        "result = longestCommonPrefix(arr,0,len(arr)-1)\n",
        "print(result)"
      ],
      "metadata": {
        "colab": {
          "base_uri": "https://localhost:8080/"
        },
        "id": "Zhk5EogAFHS_",
        "outputId": "b181d57c-906b-4c52-8f2b-a63e57c16573"
      },
      "execution_count": 59,
      "outputs": [
        {
          "output_type": "stream",
          "name": "stdout",
          "text": [
            "ap\n"
          ]
        }
      ]
    },
    {
      "cell_type": "markdown",
      "source": [
        "Median dua array urut sama ukuran\n",
        "\n"
      ],
      "metadata": {
        "id": "dIMxryN3M0aw"
      }
    },
    {
      "cell_type": "code",
      "source": [
        "#median dari dua array dengan divide dan conquer\n",
        "def medianOfArray(arr1,arr2,n):\n",
        "    m1=-1\n",
        "    m2=-1\n",
        "    count = 0\n",
        "    i=j=0\n",
        "    while count<n+1:\n",
        "      count+=1\n",
        "      if i==n:\n",
        "        m1=m2\n",
        "        m2=arr2[0]\n",
        "        break\n",
        "      if j==n:\n",
        "        m1=m2\n",
        "        m2=arr1[0]\n",
        "        break\n",
        "      if arr1[i]<arr2[j]:\n",
        "        m1=m2\n",
        "        m2=arr1[i]\n",
        "        i+=1\n",
        "      else:\n",
        "        m1=m2\n",
        "        m2=arr2[j]\n",
        "        j+=1\n",
        "    return(m1+m2)//2"
      ],
      "metadata": {
        "id": "Nt6L0AsxMqjW"
      },
      "execution_count": 60,
      "outputs": []
    },
    {
      "cell_type": "code",
      "source": [
        "arr1=[1,12,15,26,38]\n",
        "arr2=[2,13,17,30,45]"
      ],
      "metadata": {
        "id": "oviMpmIAMs37"
      },
      "execution_count": 61,
      "outputs": []
    },
    {
      "cell_type": "code",
      "source": [
        "print(medianOfArray(arr1,arr2,len(arr1)))"
      ],
      "metadata": {
        "colab": {
          "base_uri": "https://localhost:8080/"
        },
        "id": "J0awt094MyKU",
        "outputId": "6e416e80-8291-46e8-b494-38b7489efe07"
      },
      "execution_count": 62,
      "outputs": [
        {
          "output_type": "stream",
          "name": "stdout",
          "text": [
            "16\n"
          ]
        }
      ]
    },
    {
      "cell_type": "markdown",
      "source": [
        "Median Dua array urut berbeda ukuran"
      ],
      "metadata": {
        "id": "GQXa1E4GNRo2"
      }
    },
    {
      "cell_type": "code",
      "source": [
        "#floor in sorted array\n",
        "def floorSorted(arr,low,high,x):\n",
        "    if low>high:\n",
        "      return -1\n",
        "\n",
        "    if arr[low]>x:\n",
        "      return-1\n",
        "\n",
        "    if arr[high]<=x:\n",
        "      return arr[high]\n",
        "    \n",
        "    mid = (low+high)//2\n",
        "\n",
        "    if arr[mid] ==x:\n",
        "      return arr[mid]\n",
        "\n",
        "    if mid>0 and x>=arr[mid-1] and arr[mid]>x:\n",
        "        return arr[mid-1]\n",
        "    if mid<high and x<arr[mid+1] and x>=arr[mid]:\n",
        "        return arr[mid]\n",
        "    if x>arr[mid]:\n",
        "        return floorSorted(arr,mid+1,high,x)\n",
        "    else:\n",
        "        return floorSorted(arr,low,mid-1,x)"
      ],
      "metadata": {
        "id": "XZ9j6SpeM4iJ"
      },
      "execution_count": 63,
      "outputs": []
    },
    {
      "cell_type": "code",
      "source": [
        "arr = [1,2,8,10,12,14,19]\n",
        "x=5\n",
        "print(floorSorted(arr,0,len(arr)-1, x))"
      ],
      "metadata": {
        "colab": {
          "base_uri": "https://localhost:8080/"
        },
        "id": "VBwdf5v_NBAq",
        "outputId": "f3f44983-757f-4996-8c94-5c0f77cfaa85"
      },
      "execution_count": 64,
      "outputs": [
        {
          "output_type": "stream",
          "name": "stdout",
          "text": [
            "2\n"
          ]
        }
      ]
    },
    {
      "cell_type": "code",
      "source": [
        "#mencari nilai terdekat dengan metode divide dan conquer\n",
        "def closestNumber(arr,low,high,x):\n",
        "    if low>high:\n",
        "      return -1\n",
        "    if arr[high]<=x:\n",
        "      return arr[high]\n",
        "    if arr[low]>=x:\n",
        "      return arr[low]\n",
        "\n",
        "  #Formula mencari nilai \n",
        "    mid = (low+high)//2\n",
        "\n",
        "    if arr[mid]==x:\n",
        "      return arr[mid]\n",
        "    abs_mid= abs(arr[mid]-x)\n",
        "\n",
        "    if mid>0:\n",
        "      abs_left=abs(arr[mid-1]-x)\n",
        "      if abs_left<abs_mid:\n",
        "        return closestNumber(arr,low,mid-1,x)\n",
        "    \n",
        "    if mid<high:\n",
        "      abs_right=abs(arr[mid+1]-x)\n",
        "      if abs_left<abs_mid:\n",
        "        return closestNumber(arr,mid+1,high,x)\n",
        "    \n",
        "    return arr[mid]"
      ],
      "metadata": {
        "id": "l3D7y_NCR39C"
      },
      "execution_count": 65,
      "outputs": []
    },
    {
      "cell_type": "code",
      "source": [
        "arr =[2,5,6,7,8,10,22]\n",
        "x = 9"
      ],
      "metadata": {
        "id": "FP6qE-HjR8Dw"
      },
      "execution_count": 66,
      "outputs": []
    },
    {
      "cell_type": "code",
      "source": [
        "print(closestNumber(arr,0,len(arr)-1,x))"
      ],
      "metadata": {
        "colab": {
          "base_uri": "https://localhost:8080/"
        },
        "id": "vTuERS4YSAuI",
        "outputId": "a99b9cb1-a56d-4415-9eae-81bc4d78a533"
      },
      "execution_count": 67,
      "outputs": [
        {
          "output_type": "stream",
          "name": "stdout",
          "text": [
            "7\n"
          ]
        }
      ]
    },
    {
      "cell_type": "code",
      "source": [
        "#Mencari Fixed point dengan metode divide dan sonquer\n",
        "\n",
        "def fixedPoint(arr, low, high):\n",
        "  if low>high:\n",
        "    return -1\n",
        "  if arr[high]==high:\n",
        "    return arr[high]\n",
        "  if arr[low]==low:\n",
        "    return arr[low]\n",
        "  mid=(low+high)//2\n",
        "  if arr[mid]==mid:\n",
        "    return arr[mid]\n",
        "  if mid>arr[mid]:\n",
        "    return fixedPoint(arr, mid+1, high)\n",
        "  else:\n",
        "    return fixedPoint(arr, low, mid-1)\n"
      ],
      "metadata": {
        "id": "QOt_iiKVSMYK"
      },
      "execution_count": 71,
      "outputs": []
    },
    {
      "cell_type": "code",
      "source": [
        "arr = [9,1,4,5,2]"
      ],
      "metadata": {
        "id": "wpA3ssxiUAOZ"
      },
      "execution_count": 72,
      "outputs": []
    },
    {
      "cell_type": "code",
      "source": [
        "print(fixedPoint(arr, 0, len(arr)-1))"
      ],
      "metadata": {
        "colab": {
          "base_uri": "https://localhost:8080/"
        },
        "id": "qWGPtvyQUCHz",
        "outputId": "92cc6436-e9bc-45ae-f512-bbc2de03748e"
      },
      "execution_count": 73,
      "outputs": [
        {
          "output_type": "stream",
          "name": "stdout",
          "text": [
            "1\n"
          ]
        }
      ]
    }
  ]
}