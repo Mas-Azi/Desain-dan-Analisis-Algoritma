{
  "cells": [
    {
      "cell_type": "markdown",
      "metadata": {
        "id": "view-in-github",
        "colab_type": "text"
      },
      "source": [
        "<a href=\"https://colab.research.google.com/github/Mas-Azi/Desain-dan-Analisis-Algoritma/blob/main/Tugas_DAA_1.ipynb\" target=\"_parent\"><img src=\"https://colab.research.google.com/assets/colab-badge.svg\" alt=\"Open In Colab\"/></a>"
      ]
    },
    {
      "cell_type": "code",
      "execution_count": 5,
      "metadata": {
        "colab": {
          "base_uri": "https://localhost:8080/"
        },
        "id": "5M9dUSYkxXzb",
        "outputId": "8eddb6a1-c593-44ab-a87a-dbc62195232a"
      },
      "outputs": [
        {
          "output_type": "stream",
          "name": "stdout",
          "text": [
            "1.21.6\n"
          ]
        }
      ],
      "source": [
        "import numpy as np\n",
        "print(np.__version__)"
      ]
    },
    {
      "cell_type": "markdown",
      "metadata": {
        "id": "ESGZOW_GyC1g"
      },
      "source": [
        "Latihan 1"
      ]
    },
    {
      "cell_type": "code",
      "execution_count": null,
      "metadata": {
        "colab": {
          "base_uri": "https://localhost:8080/"
        },
        "id": "2MCPb5gh12--",
        "outputId": "ede6bf5c-ec5a-4f93-b462-43a557a57994"
      },
      "outputs": [
        {
          "name": "stdout",
          "output_type": "stream",
          "text": [
            "Hello World\n",
            "Nama saya Muhammad Azi Saputra\n",
            "NIM saya adalah 2021071032\n"
          ]
        }
      ],
      "source": [
        "print('Hello World')\n",
        "print('Nama saya Muhammad Azi Saputra')\n",
        "print('NIM saya adalah 2021071032')"
      ]
    },
    {
      "cell_type": "markdown",
      "metadata": {
        "id": "OLV4ANSyabMN"
      },
      "source": [
        "Latihan 2"
      ]
    },
    {
      "cell_type": "code",
      "execution_count": null,
      "metadata": {
        "colab": {
          "base_uri": "https://localhost:8080/"
        },
        "id": "rYjKIXxR2jMW",
        "outputId": "9f531128-05f6-4474-a63f-df21c230d306"
      },
      "outputs": [
        {
          "name": "stdout",
          "output_type": "stream",
          "text": [
            "Five is greater than two!\n"
          ]
        }
      ],
      "source": [
        "if 5>2:\n",
        "  print(\"Five is greater than two!\")"
      ]
    },
    {
      "cell_type": "markdown",
      "metadata": {
        "id": "IT1RQ4VRaepg"
      },
      "source": [
        "Latihan 3"
      ]
    },
    {
      "cell_type": "code",
      "execution_count": null,
      "metadata": {
        "colab": {
          "base_uri": "https://localhost:8080/"
        },
        "id": "fzKrtKLW31Dr",
        "outputId": "3a75f609-4427-4f26-f4fc-b62ecad790a0"
      },
      "outputs": [
        {
          "name": "stdout",
          "output_type": "stream",
          "text": [
            "5\n",
            "john\n"
          ]
        }
      ],
      "source": [
        "x = 5\n",
        "y = \"john\"\n",
        "print(x)\n",
        "print(y)"
      ]
    },
    {
      "cell_type": "markdown",
      "metadata": {
        "id": "unrsKO_tai_f"
      },
      "source": [
        "Latihan 4"
      ]
    },
    {
      "cell_type": "code",
      "execution_count": null,
      "metadata": {
        "colab": {
          "base_uri": "https://localhost:8080/"
        },
        "id": "11kq4q2d51uI",
        "outputId": "c74fc79d-cb23-4b65-ca72-1ba9d2c8d03c"
      },
      "outputs": [
        {
          "name": "stdout",
          "output_type": "stream",
          "text": [
            "5\n"
          ]
        }
      ],
      "source": [
        "x = 4\n",
        "x = \"sally\"\n",
        "x = 5\n",
        "print(x)\n"
      ]
    },
    {
      "cell_type": "code",
      "execution_count": null,
      "metadata": {
        "colab": {
          "base_uri": "https://localhost:8080/"
        },
        "id": "TBSCJzgB6yFP",
        "outputId": "843c5e4c-f205-4d2b-f7a8-4b60727e75c7"
      },
      "outputs": [
        {
          "data": {
            "text/plain": [
              "1"
            ]
          },
          "execution_count": 18,
          "metadata": {},
          "output_type": "execute_result"
        }
      ],
      "source": [
        "def getFirst(myList):\n",
        "  return myList[0]\n",
        "  \n",
        "getFirst([1, 2, 3])\n",
        "getFirst([1,2,3,4,5,6,7,8,9,10])"
      ]
    },
    {
      "cell_type": "markdown",
      "metadata": {
        "id": "AlIJFyXp9Ba5"
      },
      "source": [
        "Memperoleh getSecond, apakah harus menggunakan myList[0]?"
      ]
    },
    {
      "cell_type": "code",
      "execution_count": null,
      "metadata": {
        "colab": {
          "base_uri": "https://localhost:8080/"
        },
        "id": "AzVUFOZ98e0z",
        "outputId": "2191c719-3d57-4467-8c4d-1e9551fbedb3"
      },
      "outputs": [
        {
          "data": {
            "text/plain": [
              "2"
            ]
          },
          "execution_count": 21,
          "metadata": {},
          "output_type": "execute_result"
        }
      ],
      "source": [
        "def getSecond(myList):\n",
        "  return myList[1]\n",
        "\n",
        "getSecond([1,2,3,4,5])\n",
        "#mengambil indeks 1 bukan 0 karena untuk menampilkan nilai yang kedua saja"
      ]
    },
    {
      "cell_type": "code",
      "execution_count": null,
      "metadata": {
        "colab": {
          "base_uri": "https://localhost:8080/"
        },
        "id": "youm7Uw_HZYH",
        "outputId": "9fd5022a-9b24-40e0-be94-7fc73c5febd4"
      },
      "outputs": [
        {
          "data": {
            "text/plain": [
              "5"
            ]
          },
          "execution_count": 23,
          "metadata": {},
          "output_type": "execute_result"
        }
      ],
      "source": [
        "#Menggunakan -1 untuk menmpilkan nilai dari getLast()\n",
        "def getLast(myList):\n",
        "  return myList[-1]\n",
        "\n",
        "getLast([1,2,3,4,5])"
      ]
    },
    {
      "cell_type": "code",
      "execution_count": null,
      "metadata": {
        "colab": {
          "base_uri": "https://localhost:8080/"
        },
        "id": "F1IywDg6H6Ta",
        "outputId": "b82190ab-fb21-464e-fd42-0358f4f3efce"
      },
      "outputs": [
        {
          "data": {
            "text/plain": [
              "10"
            ]
          },
          "execution_count": 29,
          "metadata": {},
          "output_type": "execute_result"
        }
      ],
      "source": [
        "def getSum(myList):\n",
        "  sum = 0\n",
        "  for item in  myList:\n",
        "    sum = sum+item\n",
        "  return sum\n",
        "\n",
        "#pastikan posisi spasi pada return\n",
        "\n",
        "getSum([1,2,3,4])"
      ]
    },
    {
      "cell_type": "markdown",
      "metadata": {
        "id": "ItK2kY_9cKgI"
      },
      "source": [
        "getSum adalah perintah untuk mendapatkan hasil jumlah seluruh angka \n",
        "get kali aalah perintah untuk mengalikan seluruh angka"
      ]
    },
    {
      "cell_type": "code",
      "execution_count": null,
      "metadata": {
        "colab": {
          "base_uri": "https://localhost:8080/"
        },
        "id": "r2GBJ6T9KlIY",
        "outputId": "82f5a4a1-a01f-4dcd-8c52-03951f748190"
      },
      "outputs": [
        {
          "data": {
            "text/plain": [
              "6"
            ]
          },
          "execution_count": 30,
          "metadata": {},
          "output_type": "execute_result"
        }
      ],
      "source": [
        "def getKali(myList):\n",
        "  kali = 1\n",
        "  for item in myList:\n",
        "    kali *= item\n",
        "  return kali\n",
        "\n",
        "getKali([1,2,3])"
      ]
    },
    {
      "cell_type": "markdown",
      "metadata": {
        "id": "7kww94GuLzQq"
      },
      "source": [
        "getBagi untuk membagi sebuah nilai?"
      ]
    },
    {
      "cell_type": "code",
      "execution_count": null,
      "metadata": {
        "colab": {
          "base_uri": "https://localhost:8080/"
        },
        "id": "mpdUXWHLLvey",
        "outputId": "1655d21c-fd5e-45b7-f783-444b6d0e9ecc"
      },
      "outputs": [
        {
          "data": {
            "text/plain": [
              "3.0"
            ]
          },
          "execution_count": 38,
          "metadata": {},
          "output_type": "execute_result"
        }
      ],
      "source": [
        "def getBagi(myList):\n",
        "  bagi = 144\n",
        "  for item in myList:\n",
        "    bagi /= item\n",
        "  return bagi\n",
        "\n",
        "getBagi([2,4,6])"
      ]
    },
    {
      "cell_type": "code",
      "execution_count": null,
      "metadata": {
        "colab": {
          "base_uri": "https://localhost:8080/"
        },
        "id": "okbU-K-6Nz2z",
        "outputId": "9a1dc8ef-9b77-464e-d169-eb8609e717e2"
      },
      "outputs": [
        {
          "data": {
            "text/plain": [
              "20"
            ]
          },
          "execution_count": 43,
          "metadata": {},
          "output_type": "execute_result"
        }
      ],
      "source": [
        "# Menjumlahkan sum\n",
        "def getSum(myList):\n",
        "  sum = 0\n",
        "  for row in myList:\n",
        "    for item in row:\n",
        "      sum += item\n",
        "  return sum\n",
        "\n",
        "getSum([[1,2,3], [3,4,7]])\n"
      ]
    },
    {
      "cell_type": "code",
      "execution_count": null,
      "metadata": {
        "colab": {
          "base_uri": "https://localhost:8080/"
        },
        "id": "nBp2ujdWRcz2",
        "outputId": "6501ad6c-f98d-446a-c8bc-1d6f2c9562b3"
      },
      "outputs": [
        {
          "output_type": "execute_result",
          "data": {
            "text/plain": [
              "33.333333333333336"
            ]
          },
          "metadata": {},
          "execution_count": 2
        }
      ],
      "source": [
        "#Buatlah Suatu Fungsi Untuk membagi 2 Himpunan angka, jika getSum untuk menjumlahkan angka\n",
        "\n",
        "def getBagi(myList):\n",
        "  bagi = 400\n",
        "  for x in myList:\n",
        "    for y in x :\n",
        "      bagi /= y\n",
        "  return bagi\n",
        "\n",
        "getBagi([[2],[6]])    \n",
        "\n"
      ]
    },
    {
      "cell_type": "code",
      "execution_count": null,
      "metadata": {
        "colab": {
          "base_uri": "https://localhost:8080/"
        },
        "id": "xtJU69vcdHn7",
        "outputId": "359d0b88-a7cb-45a3-9f10-0e70229c7bed"
      },
      "outputs": [
        {
          "output_type": "execute_result",
          "data": {
            "text/plain": [
              "-21"
            ]
          },
          "metadata": {},
          "execution_count": 1
        }
      ],
      "source": [
        "def getKurang(myList):\n",
        "  kurang = 0\n",
        "  for x in myList:\n",
        "    for y in x :\n",
        "      kurang -= y\n",
        "  return kurang\n",
        "\n",
        "getKurang([[1,2,3], [4,5,6]])"
      ]
    },
    {
      "cell_type": "code",
      "execution_count": null,
      "metadata": {
        "id": "uDLCeqg_elu8"
      },
      "outputs": [],
      "source": [
        "def searchBinary(myList, item):\n",
        "  first = 0\n",
        "  last = len(myList)-1\n",
        "  foundFlag = False\n",
        "  while(first<=last and not foundFlag):\n",
        "    mid = (first + last)//2\n",
        "    if myList[mid] == item :\n",
        "      foundFlag = True\n",
        "    else:\n",
        "      if item < myList[mid]:\n",
        "        last = mid -1\n",
        "      else:\n",
        "        first = mid-1\n",
        "  return foundFlag\n",
        "\n",
        "searchBinary([8,9,10,100,1000, 2000, 3000], 10)"
      ]
    },
    {
      "cell_type": "code",
      "execution_count": null,
      "metadata": {
        "id": "dKVc4qRbg_jt"
      },
      "outputs": [],
      "source": []
    }
  ],
  "metadata": {
    "colab": {
      "provenance": [],
      "authorship_tag": "ABX9TyMDuEVFCqV6y6HcCx6xa0wu",
      "include_colab_link": true
    },
    "kernelspec": {
      "display_name": "Python 3",
      "name": "python3"
    },
    "language_info": {
      "name": "python"
    }
  },
  "nbformat": 4,
  "nbformat_minor": 0
}