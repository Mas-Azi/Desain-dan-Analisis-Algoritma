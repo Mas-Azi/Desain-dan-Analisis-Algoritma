{
  "nbformat": 4,
  "nbformat_minor": 0,
  "metadata": {
    "colab": {
      "provenance": [],
      "include_colab_link": true
    },
    "kernelspec": {
      "name": "python3",
      "display_name": "Python 3"
    },
    "language_info": {
      "name": "python"
    }
  },
  "cells": [
    {
      "cell_type": "markdown",
      "metadata": {
        "id": "view-in-github",
        "colab_type": "text"
      },
      "source": [
        "<a href=\"https://colab.research.google.com/github/Mas-Azi/Desain-dan-Analisis-Algoritma/blob/main/DAA_Pertemuan_13.ipynb\" target=\"_parent\"><img src=\"https://colab.research.google.com/assets/colab-badge.svg\" alt=\"Open In Colab\"/></a>"
      ]
    },
    {
      "cell_type": "markdown",
      "source": [
        "Algoritma Breadth-first Search (bfs)"
      ],
      "metadata": {
        "id": "HLqmA4Qhxyf4"
      }
    },
    {
      "cell_type": "code",
      "execution_count": 1,
      "metadata": {
        "id": "q5FZRSPku46H"
      },
      "outputs": [],
      "source": [
        "def bfs(graph, start):\n",
        "  visited = []\n",
        "  queue = [start]\n",
        "\n",
        "  while queue:\n",
        "    node = queue.pop(0)\n",
        "    if node not in visited:\n",
        "      visited.append(node)\n",
        "      neighbours = graph[node]\n",
        "      for neighbour in neighbours:\n",
        "        queue.append(neighbour)\n",
        "  return visited"
      ]
    },
    {
      "cell_type": "code",
      "source": [
        "graph={'Amin':{'Wasim','Nick','Mike'},\n",
        "       'Wasim':{'Imran','Amin'},\n",
        "       'Imran':{'Wasim','Faras'},\n",
        "       'Faras':{'Imran'},\n",
        "       'Mike':{'Amin'},\n",
        "       'Nick':{'Amin'}}\n"
      ],
      "metadata": {
        "id": "GjLRXPVNvS4X"
      },
      "execution_count": 2,
      "outputs": []
    },
    {
      "cell_type": "code",
      "source": [
        "bfs(graph,'Amin')"
      ],
      "metadata": {
        "colab": {
          "base_uri": "https://localhost:8080/"
        },
        "id": "C8Uh3mHywC0E",
        "outputId": "6ee61952-61db-4e3b-e797-f848db94e26a"
      },
      "execution_count": 4,
      "outputs": [
        {
          "output_type": "execute_result",
          "data": {
            "text/plain": [
              "['Amin', 'Mike', 'Wasim', 'Nick', 'Imran', 'Faras']"
            ]
          },
          "metadata": {},
          "execution_count": 4
        }
      ]
    },
    {
      "cell_type": "code",
      "source": [
        "bfs(graph,'Wasim')"
      ],
      "metadata": {
        "colab": {
          "base_uri": "https://localhost:8080/"
        },
        "id": "21WA5Sl9wYoE",
        "outputId": "c67a426f-5392-4b92-a37c-292ea201cab8"
      },
      "execution_count": 5,
      "outputs": [
        {
          "output_type": "execute_result",
          "data": {
            "text/plain": [
              "['Wasim', 'Amin', 'Imran', 'Mike', 'Nick', 'Faras']"
            ]
          },
          "metadata": {},
          "execution_count": 5
        }
      ]
    },
    {
      "cell_type": "code",
      "source": [
        "bfs(graph,'Nick')"
      ],
      "metadata": {
        "colab": {
          "base_uri": "https://localhost:8080/"
        },
        "id": "lVmirun0w_A0",
        "outputId": "0d066471-9eae-4bdc-bae4-7d838e69703f"
      },
      "execution_count": 6,
      "outputs": [
        {
          "output_type": "execute_result",
          "data": {
            "text/plain": [
              "['Nick', 'Amin', 'Mike', 'Wasim', 'Imran', 'Faras']"
            ]
          },
          "metadata": {},
          "execution_count": 6
        }
      ]
    },
    {
      "cell_type": "code",
      "source": [
        "bfs(graph,'Faras')"
      ],
      "metadata": {
        "colab": {
          "base_uri": "https://localhost:8080/"
        },
        "id": "xHk451aXwndN",
        "outputId": "ef707cb8-4a56-4a6c-cf67-bc4810fcf56f"
      },
      "execution_count": 7,
      "outputs": [
        {
          "output_type": "execute_result",
          "data": {
            "text/plain": [
              "['Faras', 'Imran', 'Wasim', 'Amin', 'Mike', 'Nick']"
            ]
          },
          "metadata": {},
          "execution_count": 7
        }
      ]
    },
    {
      "cell_type": "code",
      "source": [
        "graph2 = {'Rektor' : {'Warek 1', 'Warek 2'},\n",
        "          'Warek 1' : {'Rektor'},\n",
        "          'Warek 2' : {'Rektor', 'Kaprodi 1', 'Kaprodi 2', 'Kaprodi 3'},\n",
        "          'Kaprodi 1' : {'Warek 2', 'Dosen A', 'Dosen B', 'Dosen C'},\n",
        "          'Kaprodi 2' : {'Warek 2', 'Dosen D', 'Dosen E'},\n",
        "          'Kaprodi 3' : {'Warek 2', 'Dosen F', 'Dosen G'},\n",
        "          'Dosen A' : {'Kaprodi 1'},\n",
        "          'Dosen B' : {'Kaprodi 1'},\n",
        "          'Dosen C' : {'Kaprodi 1'},\n",
        "          'Dosen D' : {'Kaprodi 2'},\n",
        "          'Dosen E' : {'Kaprodi 2'},\n",
        "          'Dosen F' : {'Kaprodi 3'},\n",
        "          'Dosen G' : {'Kaprodi 3'},\n",
        "        }"
      ],
      "metadata": {
        "id": "SESip-oCwqZ9"
      },
      "execution_count": 8,
      "outputs": []
    },
    {
      "cell_type": "code",
      "source": [
        "bfs(graph2,'Warek 1')"
      ],
      "metadata": {
        "colab": {
          "base_uri": "https://localhost:8080/"
        },
        "id": "3xgl6xJPxUYN",
        "outputId": "13b70deb-dc5f-4a2d-e19e-63cbe2885946"
      },
      "execution_count": 9,
      "outputs": [
        {
          "output_type": "execute_result",
          "data": {
            "text/plain": [
              "['Warek 1',\n",
              " 'Rektor',\n",
              " 'Warek 2',\n",
              " 'Kaprodi 3',\n",
              " 'Kaprodi 1',\n",
              " 'Kaprodi 2',\n",
              " 'Dosen F',\n",
              " 'Dosen G',\n",
              " 'Dosen A',\n",
              " 'Dosen C',\n",
              " 'Dosen B',\n",
              " 'Dosen E',\n",
              " 'Dosen D']"
            ]
          },
          "metadata": {},
          "execution_count": 9
        }
      ]
    },
    {
      "cell_type": "code",
      "source": [
        "bfs(graph2,'Dosen C')"
      ],
      "metadata": {
        "colab": {
          "base_uri": "https://localhost:8080/"
        },
        "id": "6sh91UXexajS",
        "outputId": "10014201-90f8-4b7b-e969-e4e844a0b775"
      },
      "execution_count": 10,
      "outputs": [
        {
          "output_type": "execute_result",
          "data": {
            "text/plain": [
              "['Dosen C',\n",
              " 'Kaprodi 1',\n",
              " 'Dosen A',\n",
              " 'Warek 2',\n",
              " 'Dosen B',\n",
              " 'Kaprodi 3',\n",
              " 'Rektor',\n",
              " 'Kaprodi 2',\n",
              " 'Dosen F',\n",
              " 'Dosen G',\n",
              " 'Warek 1',\n",
              " 'Dosen E',\n",
              " 'Dosen D']"
            ]
          },
          "metadata": {},
          "execution_count": 10
        }
      ]
    },
    {
      "cell_type": "code",
      "source": [
        "bfs(graph2,'Rektor')"
      ],
      "metadata": {
        "colab": {
          "base_uri": "https://localhost:8080/"
        },
        "id": "ij7aszDfxm2B",
        "outputId": "7266f539-d206-4ac5-b889-d9463bcc628e"
      },
      "execution_count": 11,
      "outputs": [
        {
          "output_type": "execute_result",
          "data": {
            "text/plain": [
              "['Rektor',\n",
              " 'Warek 2',\n",
              " 'Warek 1',\n",
              " 'Kaprodi 3',\n",
              " 'Kaprodi 1',\n",
              " 'Kaprodi 2',\n",
              " 'Dosen F',\n",
              " 'Dosen G',\n",
              " 'Dosen A',\n",
              " 'Dosen C',\n",
              " 'Dosen B',\n",
              " 'Dosen E',\n",
              " 'Dosen D']"
            ]
          },
          "metadata": {},
          "execution_count": 11
        }
      ]
    },
    {
      "cell_type": "markdown",
      "source": [
        "Algoritma Depth-first Search (dfs)"
      ],
      "metadata": {
        "id": "TrR8WF7-x32v"
      }
    },
    {
      "cell_type": "code",
      "source": [
        "def dfs(graph, start, visited=None):\n",
        "  if visited is None:\n",
        "    visited = set()\n",
        "  visited.add(start)\n",
        "  print(start)\n",
        "  for next in graph[start] - visited:\n",
        "    dfs(graph, next, visited)\n",
        "  return visited"
      ],
      "metadata": {
        "id": "TdlioRUJxwT0"
      },
      "execution_count": 12,
      "outputs": []
    },
    {
      "cell_type": "code",
      "source": [
        "graph_dfs ={'Amin' : {'Wasim', 'Nick', 'Mike'},\n",
        "            'Wasim': {'Imran', 'Amin'},\n",
        "            'Imran': {'Wasim', 'Faras'},\n",
        "            'Faras': {'Imran'},\n",
        "            'Nick' : {'Amin'},\n",
        "            'Mike' : {'Amin'}}"
      ],
      "metadata": {
        "id": "nq7zdOAOyMUW"
      },
      "execution_count": 13,
      "outputs": []
    },
    {
      "cell_type": "code",
      "source": [
        "dfs(graph_dfs,'Amin')"
      ],
      "metadata": {
        "colab": {
          "base_uri": "https://localhost:8080/"
        },
        "id": "SyavcA4vyKRy",
        "outputId": "e9cc755a-379b-4a60-f105-dd66269e74dc"
      },
      "execution_count": 14,
      "outputs": [
        {
          "output_type": "stream",
          "name": "stdout",
          "text": [
            "Amin\n",
            "Wasim\n",
            "Imran\n",
            "Faras\n",
            "Mike\n",
            "Nick\n"
          ]
        },
        {
          "output_type": "execute_result",
          "data": {
            "text/plain": [
              "{'Amin', 'Faras', 'Imran', 'Mike', 'Nick', 'Wasim'}"
            ]
          },
          "metadata": {},
          "execution_count": 14
        }
      ]
    },
    {
      "cell_type": "code",
      "source": [
        "dfs(graph_dfs,'Wasim')"
      ],
      "metadata": {
        "colab": {
          "base_uri": "https://localhost:8080/"
        },
        "id": "8W3E9CbtyddB",
        "outputId": "ce76737b-c617-4b3e-809a-9612f798be9c"
      },
      "execution_count": 15,
      "outputs": [
        {
          "output_type": "stream",
          "name": "stdout",
          "text": [
            "Wasim\n",
            "Amin\n",
            "Mike\n",
            "Nick\n",
            "Imran\n",
            "Faras\n"
          ]
        },
        {
          "output_type": "execute_result",
          "data": {
            "text/plain": [
              "{'Amin', 'Faras', 'Imran', 'Mike', 'Nick', 'Wasim'}"
            ]
          },
          "metadata": {},
          "execution_count": 15
        }
      ]
    },
    {
      "cell_type": "code",
      "source": [
        "dfs(graph_dfs,'Faras')"
      ],
      "metadata": {
        "colab": {
          "base_uri": "https://localhost:8080/"
        },
        "id": "FQc99M7JyhNg",
        "outputId": "26c6da44-5c43-44e9-b006-f9d45691f295"
      },
      "execution_count": 16,
      "outputs": [
        {
          "output_type": "stream",
          "name": "stdout",
          "text": [
            "Faras\n",
            "Imran\n",
            "Wasim\n",
            "Amin\n",
            "Mike\n",
            "Nick\n"
          ]
        },
        {
          "output_type": "execute_result",
          "data": {
            "text/plain": [
              "{'Amin', 'Faras', 'Imran', 'Mike', 'Nick', 'Wasim'}"
            ]
          },
          "metadata": {},
          "execution_count": 16
        }
      ]
    },
    {
      "cell_type": "code",
      "source": [
        "dfs(graph_dfs,'Nick')"
      ],
      "metadata": {
        "colab": {
          "base_uri": "https://localhost:8080/"
        },
        "id": "RVJqCKZZykZ4",
        "outputId": "7febdd47-e076-4cf0-876f-ae110d718f8f"
      },
      "execution_count": 17,
      "outputs": [
        {
          "output_type": "stream",
          "name": "stdout",
          "text": [
            "Nick\n",
            "Amin\n",
            "Wasim\n",
            "Imran\n",
            "Faras\n",
            "Mike\n"
          ]
        },
        {
          "output_type": "execute_result",
          "data": {
            "text/plain": [
              "{'Amin', 'Faras', 'Imran', 'Mike', 'Nick', 'Wasim'}"
            ]
          },
          "metadata": {},
          "execution_count": 17
        }
      ]
    },
    {
      "cell_type": "code",
      "source": [
        "graph2_dfs ={'Rektor' : {'Warek 1', 'Warek 2'},\n",
        "            'Warek 1' : {'Rektor'},\n",
        "            'Warek 2' : {'Rektor', 'Kaprodi 1', 'Kaprodi 2', 'Kaprodi 3'},\n",
        "            'Kaprodi 1' : {'Warek 2', 'Dosen A', 'Dosen B', 'Dosen C'},\n",
        "            'Kaprodi 2' : {'Warek 2', 'Dosen D', 'Dosen E'},\n",
        "            'Kaprodi 3' : {'Warek 2', 'Dosen F', 'Dosen G'},\n",
        "            'Dosen A' : {'Kaprodi 1'},\n",
        "            'Dosen B' : {'Kaprodi 1'},\n",
        "            'Dosen C' : {'Kaprodi 1'},\n",
        "            'Dosen D' : {'Kaprodi 2'},\n",
        "            'Dosen E' : {'Kaprodi 2'},\n",
        "            'Dosen F' : {'Kaprodi 3'},\n",
        "            'Dosen G' : {'Kaprodi 3'}}"
      ],
      "metadata": {
        "id": "SC1LYlpaymTk"
      },
      "execution_count": 18,
      "outputs": []
    },
    {
      "cell_type": "code",
      "source": [
        "dfs(graph2_dfs,'Rektor')"
      ],
      "metadata": {
        "colab": {
          "base_uri": "https://localhost:8080/"
        },
        "id": "D5MfGXa9yxsU",
        "outputId": "0770410f-331a-42c2-8bae-5074a3892c7d"
      },
      "execution_count": 19,
      "outputs": [
        {
          "output_type": "stream",
          "name": "stdout",
          "text": [
            "Rektor\n",
            "Warek 2\n",
            "Kaprodi 1\n",
            "Dosen A\n",
            "Dosen C\n",
            "Dosen B\n",
            "Kaprodi 3\n",
            "Dosen F\n",
            "Dosen G\n",
            "Kaprodi 2\n",
            "Dosen E\n",
            "Dosen D\n",
            "Warek 1\n"
          ]
        },
        {
          "output_type": "execute_result",
          "data": {
            "text/plain": [
              "{'Dosen A',\n",
              " 'Dosen B',\n",
              " 'Dosen C',\n",
              " 'Dosen D',\n",
              " 'Dosen E',\n",
              " 'Dosen F',\n",
              " 'Dosen G',\n",
              " 'Kaprodi 1',\n",
              " 'Kaprodi 2',\n",
              " 'Kaprodi 3',\n",
              " 'Rektor',\n",
              " 'Warek 1',\n",
              " 'Warek 2'}"
            ]
          },
          "metadata": {},
          "execution_count": 19
        }
      ]
    },
    {
      "cell_type": "code",
      "source": [
        "dfs(graph2_dfs,'Warek 1')"
      ],
      "metadata": {
        "colab": {
          "base_uri": "https://localhost:8080/"
        },
        "id": "WxJJdkFky1Om",
        "outputId": "d4a772a8-fee3-4214-85b8-992e41a7afaa"
      },
      "execution_count": 20,
      "outputs": [
        {
          "output_type": "stream",
          "name": "stdout",
          "text": [
            "Warek 1\n",
            "Rektor\n",
            "Warek 2\n",
            "Kaprodi 1\n",
            "Dosen A\n",
            "Dosen C\n",
            "Dosen B\n",
            "Kaprodi 3\n",
            "Dosen F\n",
            "Dosen G\n",
            "Kaprodi 2\n",
            "Dosen E\n",
            "Dosen D\n"
          ]
        },
        {
          "output_type": "execute_result",
          "data": {
            "text/plain": [
              "{'Dosen A',\n",
              " 'Dosen B',\n",
              " 'Dosen C',\n",
              " 'Dosen D',\n",
              " 'Dosen E',\n",
              " 'Dosen F',\n",
              " 'Dosen G',\n",
              " 'Kaprodi 1',\n",
              " 'Kaprodi 2',\n",
              " 'Kaprodi 3',\n",
              " 'Rektor',\n",
              " 'Warek 1',\n",
              " 'Warek 2'}"
            ]
          },
          "metadata": {},
          "execution_count": 20
        }
      ]
    },
    {
      "cell_type": "code",
      "source": [
        "dfs(graph2_dfs,'Kaprodi 1')"
      ],
      "metadata": {
        "colab": {
          "base_uri": "https://localhost:8080/"
        },
        "id": "Fywks9WEy5M1",
        "outputId": "84c5712f-c72d-4875-c993-d4c130ee8d9b"
      },
      "execution_count": 21,
      "outputs": [
        {
          "output_type": "stream",
          "name": "stdout",
          "text": [
            "Kaprodi 1\n",
            "Dosen A\n",
            "Warek 2\n",
            "Rektor\n",
            "Warek 1\n",
            "Kaprodi 3\n",
            "Dosen F\n",
            "Dosen G\n",
            "Kaprodi 2\n",
            "Dosen E\n",
            "Dosen D\n",
            "Dosen C\n",
            "Dosen B\n"
          ]
        },
        {
          "output_type": "execute_result",
          "data": {
            "text/plain": [
              "{'Dosen A',\n",
              " 'Dosen B',\n",
              " 'Dosen C',\n",
              " 'Dosen D',\n",
              " 'Dosen E',\n",
              " 'Dosen F',\n",
              " 'Dosen G',\n",
              " 'Kaprodi 1',\n",
              " 'Kaprodi 2',\n",
              " 'Kaprodi 3',\n",
              " 'Rektor',\n",
              " 'Warek 1',\n",
              " 'Warek 2'}"
            ]
          },
          "metadata": {},
          "execution_count": 21
        }
      ]
    }
  ]
}