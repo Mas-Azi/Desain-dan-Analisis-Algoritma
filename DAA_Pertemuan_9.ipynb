{
  "nbformat": 4,
  "nbformat_minor": 0,
  "metadata": {
    "colab": {
      "provenance": [],
      "authorship_tag": "ABX9TyN9WcHgGqArOMNaPo8+x4xe",
      "include_colab_link": true
    },
    "kernelspec": {
      "name": "python3",
      "display_name": "Python 3"
    },
    "language_info": {
      "name": "python"
    }
  },
  "cells": [
    {
      "cell_type": "markdown",
      "metadata": {
        "id": "view-in-github",
        "colab_type": "text"
      },
      "source": [
        "<a href=\"https://colab.research.google.com/github/Mas-Azi/Desain-dan-Analisis-Algoritma/blob/main/DAA_Pertemuan_9.ipynb\" target=\"_parent\"><img src=\"https://colab.research.google.com/assets/colab-badge.svg\" alt=\"Open In Colab\"/></a>"
      ]
    },
    {
      "cell_type": "code",
      "execution_count": null,
      "metadata": {
        "id": "Fl0RrPON1vyv"
      },
      "outputs": [],
      "source": [
        "import numpy as np\n",
        "import networkx as nx\n",
        "import matplotlib.pyplot as plt\n",
        "%matplotlib inline"
      ]
    },
    {
      "cell_type": "code",
      "source": [
        "myWeb = nx.DiGraph()\n",
        "myPages = range(1,5)"
      ],
      "metadata": {
        "id": "-LpTTXeT6cGr"
      },
      "execution_count": null,
      "outputs": []
    },
    {
      "cell_type": "code",
      "source": [
        "#Menghubungkan semuanya secara acak\n",
        "connections = [(1,3),(2,1),(2,3),(3,1),(3,2),(3,4),(4,5),(5,1)]\n",
        "myWeb.add_nodes_from(myPages)\n",
        "myWeb.add_edges_from(connections)"
      ],
      "metadata": {
        "id": "XW9IIsx15WyU"
      },
      "execution_count": null,
      "outputs": []
    },
    {
      "cell_type": "code",
      "source": [
        "#Melakukan Plotting\n",
        "pos = nx.shell_layout(myWeb)\n",
        "nx.draw(myWeb, pos, arrows=True, with_labels=True)\n",
        "plt.show()"
      ],
      "metadata": {
        "colab": {
          "base_uri": "https://localhost:8080/",
          "height": 319
        },
        "id": "Gimhz2Bn6t_C",
        "outputId": "bbc01f5d-9c09-4123-e605-08ac52724123"
      },
      "execution_count": null,
      "outputs": [
        {
          "output_type": "display_data",
          "data": {
            "text/plain": [
              "<Figure size 432x288 with 1 Axes>"
            ],
            "image/png": "[encoded data removed]"
          },
          "metadata": {}
        }
      ]
    },
    {
      "cell_type": "code",
      "source": [
        "#Implementasi Algoritma PageRank\n",
        "def createPageRank(aGraph):\n",
        "  nodes_set = len(aGraph)\n",
        "  M = nx.to_numpy_matrix(aGraph)\n",
        "  outwards = np.squeeze(np.asarray(np.sum(M, axis=1)))\n",
        "  prob_outwards = np.array(\n",
        "      [1.0/count\n",
        "       if count>0 else 0.0 for count in outwards])\n",
        "  G = np.asarray(np.multiply(M.T, prob_outwards))\n",
        "  p = np.ones(nodes_set)/float(nodes_set)\n",
        "  if np.min(np.sum(G, axis=0))<1.0:\n",
        "    print('WARN: G is substochastic')\n",
        "  return G,p"
      ],
      "metadata": {
        "id": "I_QdRxRW7RDi"
      },
      "execution_count": null,
      "outputs": []
    },
    {
      "cell_type": "code",
      "source": [
        "G, p = createPageRank(myWeb)\n",
        "print(G)"
      ],
      "metadata": {
        "colab": {
          "base_uri": "https://localhost:8080/"
        },
        "id": "H2DPHPcu-g3_",
        "outputId": "474d502d-1ea7-4ea7-bf72-eeba52712eab"
      },
      "execution_count": null,
      "outputs": [
        {
          "output_type": "stream",
          "name": "stdout",
          "text": [
            "[[0.         0.5        0.33333333 0.         1.        ]\n",
            " [0.         0.         0.33333333 0.         0.        ]\n",
            " [1.         0.5        0.         0.         0.        ]\n",
            " [0.         0.         0.33333333 0.         0.        ]\n",
            " [0.         0.         0.         1.         0.        ]]\n"
          ]
        }
      ]
    },
    {
      "cell_type": "code",
      "source": [
        "\n",
        "#Tugas 1\n",
        "myWeb = nx.DiGraph()\n",
        "myPages = range(1,6)\n",
        "#Menghubungkan network secara acak\n",
        "connections = [(1,2),(2,3),(3,4),(4,5),(5,6)]\n",
        "myWeb.add_nodes_from(myPages)\n",
        "myWeb.add_edges_from(connections)\n",
        "\n",
        "pos = nx.spring_layout(myWeb, seed = 40)\n",
        "nx.draw(myWeb, pos, arrows=True, with_labels=True)\n",
        "plt.show()"
      ],
      "metadata": {
        "colab": {
          "base_uri": "https://localhost:8080/",
          "height": 319
        },
        "id": "QZOCT1qG_Urn",
        "outputId": "cd330ef6-f9d6-49ef-bdf5-517ff95b4803"
      },
      "execution_count": null,
      "outputs": [
        {
          "output_type": "display_data",
          "data": {
            "text/plain": [
              "<Figure size 432x288 with 1 Axes>"
            ],
            "image/png": "[encoded data removed]"
          },
          "metadata": {}
        }
      ]
    },
    {
      "cell_type": "code",
      "source": [
        "def createPageRank(aGraph):\n",
        "  nodes_set = len(aGraph)\n",
        "  M = nx.to_numpy_matrix(aGraph)\n",
        "  outwards = np.squeeze(np.asarray(np.sum(M, axis=1)))\n",
        "  prob_outwards = np.array(\n",
        "      [1.0/count\n",
        "       if count>0 else 0.0 for count in outwards])\n",
        "  A = np.asarray(np.multiply(M.T, prob_outwards))\n",
        "  p = np.ones(nodes_set)/float(nodes_set)\n",
        "  if np.min(np.sum(A, axis=0))<1.0:\n",
        "    print('WARN: A is substochastic')\n",
        "  return A,p\n",
        "A, p = createPageRank(myWeb)\n",
        "print(A)"
      ],
      "metadata": {
        "colab": {
          "base_uri": "https://localhost:8080/",
          "height": 218
        },
        "id": "UuqaJw13HcSx",
        "outputId": "51fecb1d-afdc-4086-e5e8-5dde79c7ed18"
      },
      "execution_count": null,
      "outputs": [
        {
          "output_type": "error",
          "ename": "NameError",
          "evalue": "ignored",
          "traceback": [
            "\u001b[0;31m---------------------------------------------------------------------------\u001b[0m",
            "\u001b[0;31mNameError\u001b[0m                                 Traceback (most recent call last)",
            "\u001b[0;32m<ipython-input-9-46898625ab51>\u001b[0m in \u001b[0;36m<module>\u001b[0;34m\u001b[0m\n\u001b[1;32m     11\u001b[0m     \u001b[0mprint\u001b[0m\u001b[0;34m(\u001b[0m\u001b[0;34m'WARN: A is substochastic'\u001b[0m\u001b[0;34m)\u001b[0m\u001b[0;34m\u001b[0m\u001b[0;34m\u001b[0m\u001b[0m\n\u001b[1;32m     12\u001b[0m   \u001b[0;32mreturn\u001b[0m \u001b[0mA\u001b[0m\u001b[0;34m,\u001b[0m\u001b[0mp\u001b[0m\u001b[0;34m\u001b[0m\u001b[0;34m\u001b[0m\u001b[0m\n\u001b[0;32m---> 13\u001b[0;31m \u001b[0mA\u001b[0m\u001b[0;34m,\u001b[0m \u001b[0mp\u001b[0m \u001b[0;34m=\u001b[0m \u001b[0mcreatePageRank\u001b[0m\u001b[0;34m(\u001b[0m\u001b[0mmyWeb\u001b[0m\u001b[0;34m)\u001b[0m\u001b[0;34m\u001b[0m\u001b[0;34m\u001b[0m\u001b[0m\n\u001b[0m\u001b[1;32m     14\u001b[0m \u001b[0mprint\u001b[0m\u001b[0;34m(\u001b[0m\u001b[0mA\u001b[0m\u001b[0;34m)\u001b[0m\u001b[0;34m\u001b[0m\u001b[0;34m\u001b[0m\u001b[0m\n",
            "\u001b[0;31mNameError\u001b[0m: name 'myWeb' is not defined"
          ]
        }
      ]
    },
    {
      "cell_type": "code",
      "source": [
        "#Tugas 2\n",
        "myWeb = nx.DiGraph()\n",
        "myPages = range(1,5)\n",
        "\n",
        "#Menghubungkan semuanya secara acak\n",
        "connections = [(1,2),(2,3),(3,4),(4,5),(5,1)]\n",
        "myWeb.add_nodes_from(myPages)\n",
        "myWeb.add_edges_from(connections)\n",
        "#Melakukan Plottin\n",
        "pos = nx.spectral_layout(myWeb)\n",
        "nx.draw(myWeb, pos, arrows=True, with_labels=True)\n",
        "plt.show()"
      ],
      "metadata": {
        "colab": {
          "base_uri": "https://localhost:8080/",
          "height": 319
        },
        "id": "rATyuJ45A4a4",
        "outputId": "78e3ea40-3492-473a-c4ab-da9452fc94cb"
      },
      "execution_count": null,
      "outputs": [
        {
          "output_type": "display_data",
          "data": {
            "text/plain": [
              "<Figure size 432x288 with 1 Axes>"
            ],
            "image/png": "[encoded data removed]"
          },
          "metadata": {}
        }
      ]
    },
    {
      "cell_type": "code",
      "source": [
        "def createPageRank(aGraph):\n",
        "  nodes_set = len(aGraph)\n",
        "  M = nx.to_numpy_matrix(aGraph)\n",
        "  outwards = np.squeeze(np.asarray(np.sum(M, axis=1)))\n",
        "  prob_outwards = np.array(\n",
        "      [1.0/count\n",
        "       if count>0 else 0.0 for count in outwards])\n",
        "  C = np.asarray(np.multiply(M.T, prob_outwards))\n",
        "  p = np.ones(nodes_set)/float(nodes_set)\n",
        "  if np.min(np.sum(C, axis=0))<1.0:\n",
        "    print('WARN: C is substochastic')\n",
        "  return A,p\n",
        "C, p = createPageRank(myWeb)\n",
        "print(C)"
      ],
      "metadata": {
        "colab": {
          "base_uri": "https://localhost:8080/"
        },
        "id": "ffjGCHEXIAEm",
        "outputId": "29045e67-b60f-4614-8737-b43204ef4c74"
      },
      "execution_count": null,
      "outputs": [
        {
          "output_type": "stream",
          "name": "stdout",
          "text": [
            "[[0. 0. 0. 0. 1.]\n",
            " [1. 0. 0. 0. 0.]\n",
            " [0. 1. 0. 0. 0.]\n",
            " [0. 0. 1. 0. 0.]\n",
            " [0. 0. 0. 1. 0.]]\n"
          ]
        }
      ]
    },
    {
      "cell_type": "code",
      "source": [
        "#Tugas 3\n",
        "myWeb = nx.DiGraph()\n",
        "myPages = range(1,4)\n",
        "\n",
        "#Menghubungkan semuanya secara acak\n",
        "connections = [(1,2),(2,3),(3,4),(2,1),(3,2),(4,3)]\n",
        "myWeb.add_nodes_from(myPages)\n",
        "myWeb.add_edges_from(connections)\n",
        "#Melakukan Plottinh\n",
        "pos = nx.spring_layout(myWeb)\n",
        "nx.draw(myWeb, pos, arrows=True, with_labels=True)\n",
        "plt.show()"
      ],
      "metadata": {
        "colab": {
          "base_uri": "https://localhost:8080/",
          "height": 319
        },
        "id": "B7m83bDYBVip",
        "outputId": "811aa388-b621-4d27-e4bf-d7c375376012"
      },
      "execution_count": null,
      "outputs": [
        {
          "output_type": "display_data",
          "data": {
            "text/plain": [
              "<Figure size 432x288 with 1 Axes>"
            ],
            "image/png": "[encoded data removed]"
          },
          "metadata": {}
        }
      ]
    },
    {
      "cell_type": "code",
      "source": [
        "def createPageRank(aGraph):\n",
        "  nodes_set = len(aGraph)\n",
        "  M = nx.to_numpy_matrix(aGraph)\n",
        "  outwards = np.squeeze(np.asarray(np.sum(M, axis=1)))\n",
        "  prob_outwards = np.array(\n",
        "      [1.0/count\n",
        "       if count>0 else 0.0 for count in outwards])\n",
        "  G = np.asarray(np.multiply(M.T, prob_outwards))\n",
        "  p = np.ones(nodes_set)/float(nodes_set)\n",
        "  if np.min(np.sum(G, axis=0))<1.0:\n",
        "    print('WARN: G is substochastic')\n",
        "  return G,p\n",
        "\n",
        "G, p = createPageRank(myWeb)\n",
        "print(G)"
      ],
      "metadata": {
        "colab": {
          "base_uri": "https://localhost:8080/"
        },
        "id": "nlm_trbWE95i",
        "outputId": "c09edb95-fbc3-47b6-a5a1-037318189277"
      },
      "execution_count": null,
      "outputs": [
        {
          "output_type": "stream",
          "name": "stdout",
          "text": [
            "[[0.  0.5 0.  0. ]\n",
            " [1.  0.  0.5 0. ]\n",
            " [0.  0.5 0.  1. ]\n",
            " [0.  0.  0.5 0. ]]\n"
          ]
        }
      ]
    },
    {
      "cell_type": "code",
      "source": [
        "#Tugas 4\n",
        "myWeb = nx.DiGraph()\n",
        "myPages = range(1,6)\n",
        "\n",
        "#Menghubungkan semuanya secara acak\n",
        "connections = [(1,2),(2,3),(3,4),(4,5),(5,6),(6,1)]\n",
        "myWeb.add_nodes_from(myPages)\n",
        "myWeb.add_edges_from(connections)\n",
        "#Melakukan Plottinh\n",
        "pos = nx.circular_layout(myWeb)\n",
        "nx.draw(myWeb, pos, arrows=True, with_labels=True)\n",
        "plt.show()"
      ],
      "metadata": {
        "colab": {
          "base_uri": "https://localhost:8080/",
          "height": 319
        },
        "id": "r_DXL1kSCSBG",
        "outputId": "d8f6b04b-ac4d-4691-ecee-2741e7de5aaf"
      },
      "execution_count": null,
      "outputs": [
        {
          "output_type": "display_data",
          "data": {
            "text/plain": [
              "<Figure size 432x288 with 1 Axes>"
            ],
            "image/png": "[encoded data removed]"
          },
          "metadata": {}
        }
      ]
    },
    {
      "cell_type": "code",
      "source": [
        "def createPageRank(aGraph):\n",
        "  nodes_set = len(aGraph)\n",
        "  M = nx.to_numpy_matrix(aGraph)\n",
        "  outwards = np.squeeze(np.asarray(np.sum(M, axis=1)))\n",
        "  prob_outwards = np.array(\n",
        "      [1.0/count\n",
        "       if count>0 else 0.0 for count in outwards])\n",
        "  A = np.asarray(np.multiply(M.T, prob_outwards))\n",
        "  p = np.ones(nodes_set)/float(nodes_set)\n",
        "  if np.min(np.sum(A, axis=0))<1.0:\n",
        "    print('WARN: A is substochastic')\n",
        "  return A,p\n",
        "A, p = createPageRank(myWeb)\n",
        "print(A)"
      ],
      "metadata": {
        "colab": {
          "base_uri": "https://localhost:8080/"
        },
        "id": "p_9AodA1ItOg",
        "outputId": "eb76c27d-908e-4026-ec85-ac2c0c51ba4d"
      },
      "execution_count": null,
      "outputs": [
        {
          "output_type": "stream",
          "name": "stdout",
          "text": [
            "[[0. 0. 0. 0. 0. 1.]\n",
            " [1. 0. 0. 0. 0. 0.]\n",
            " [0. 1. 0. 0. 0. 0.]\n",
            " [0. 0. 1. 0. 0. 0.]\n",
            " [0. 0. 0. 1. 0. 0.]\n",
            " [0. 0. 0. 0. 1. 0.]]\n"
          ]
        }
      ]
    },
    {
      "cell_type": "code",
      "source": [
        "#Tugas 5\n",
        "myWeb = nx.DiGraph()\n",
        "myPages = range(1,4)\n",
        "\n",
        "#Menghubungkan semuanya secara acak\n",
        "connections = [(1,2),(2,3),(3,4),(4,1),(2,1),(3,2),(4,3)]\n",
        "myWeb.add_nodes_from(myPages)\n",
        "myWeb.add_edges_from(connections)\n",
        "#Melakukan Plottinh\n",
        "pos = nx.shell_layout(myWeb)\n",
        "nx.draw(myWeb, pos, arrows=True, with_labels=True)\n",
        "plt.show()"
      ],
      "metadata": {
        "colab": {
          "base_uri": "https://localhost:8080/",
          "height": 319
        },
        "id": "vGyLIdQhCgb7",
        "outputId": "714456bd-93dc-4b0b-b1b3-8358f10fc004"
      },
      "execution_count": null,
      "outputs": [
        {
          "output_type": "display_data",
          "data": {
            "text/plain": [
              "<Figure size 432x288 with 1 Axes>"
            ],
            "image/png": "[encoded data removed]"
          },
          "metadata": {}
        }
      ]
    },
    {
      "cell_type": "code",
      "source": [
        "def createPageRank(aGraph):\n",
        "  nodes_set = len(aGraph)\n",
        "  M = nx.to_numpy_matrix(aGraph)\n",
        "  outwards = np.squeeze(np.asarray(np.sum(M, axis=1)))\n",
        "  prob_outwards = np.array(\n",
        "      [1.0/count\n",
        "       if count>0 else 0.0 for count in outwards])\n",
        "  A = np.asarray(np.multiply(M.T, prob_outwards))\n",
        "  p = np.ones(nodes_set)/float(nodes_set)\n",
        "  if np.min(np.sum(A, axis=0))<1.0:\n",
        "    print('WARN: A is substochastic')\n",
        "  return A,p\n",
        "A, p = createPageRank(myWeb)\n",
        "print(A)"
      ],
      "metadata": {
        "colab": {
          "base_uri": "https://localhost:8080/"
        },
        "id": "AyTXAgxpI3Qt",
        "outputId": "f798e7ff-3590-464d-8733-14c0eb60edf6"
      },
      "execution_count": null,
      "outputs": [
        {
          "output_type": "stream",
          "name": "stdout",
          "text": [
            "[[0.  0.5 0.  0.5]\n",
            " [1.  0.  0.5 0. ]\n",
            " [0.  0.5 0.  0.5]\n",
            " [0.  0.  0.5 0. ]]\n"
          ]
        }
      ]
    },
    {
      "cell_type": "code",
      "source": [
        "#Tugas 6\n",
        "myWeb = nx.DiGraph()\n",
        "myPages = range(1,5)\n",
        "\n",
        "#Menghubungkan semuanya secara acak\n",
        "connections = [(1,2),(2,3),(3,4),(4,5),(5,1),(4,1)]\n",
        "myWeb.add_nodes_from(myPages)\n",
        "myWeb.add_edges_from(connections)\n",
        "#Melakukan Plottinh\n",
        "pos = nx.spectral_layout(myWeb)\n",
        "nx.draw(myWeb, pos, arrows=True, with_labels=True)\n",
        "plt.show()"
      ],
      "metadata": {
        "colab": {
          "base_uri": "https://localhost:8080/",
          "height": 319
        },
        "id": "kNfGWbxEC32U",
        "outputId": "c76b3780-e86b-4cc8-8de4-c3d6c83f8145"
      },
      "execution_count": null,
      "outputs": [
        {
          "output_type": "display_data",
          "data": {
            "text/plain": [
              "<Figure size 432x288 with 1 Axes>"
            ],
            "image/png": "[encoded data removed]"
          },
          "metadata": {}
        }
      ]
    },
    {
      "cell_type": "code",
      "source": [
        "def createPageRank(aGraph):\n",
        "  nodes_set = len(aGraph)\n",
        "  M = nx.to_numpy_matrix(aGraph)\n",
        "  outwards = np.squeeze(np.asarray(np.sum(M, axis=1)))\n",
        "  prob_outwards = np.array(\n",
        "      [1.0/count\n",
        "       if count>0 else 0.0 for count in outwards])\n",
        "  A = np.asarray(np.multiply(M.T, prob_outwards))\n",
        "  p = np.ones(nodes_set)/float(nodes_set)\n",
        "  if np.min(np.sum(A, axis=0))<1.0:\n",
        "    print('WARN: A is substochastic')\n",
        "  return A,p\n",
        "A, p = createPageRank(myWeb)\n",
        "print(A)"
      ],
      "metadata": {
        "colab": {
          "base_uri": "https://localhost:8080/"
        },
        "id": "vUzdcMLFD3sg",
        "outputId": "79f4ef72-29fc-4b40-af62-62d618a41235"
      },
      "execution_count": null,
      "outputs": [
        {
          "output_type": "stream",
          "name": "stdout",
          "text": [
            "[[0.  0.  0.  0.5 1. ]\n",
            " [1.  0.  0.  0.  0. ]\n",
            " [0.  1.  0.  0.  0. ]\n",
            " [0.  0.  1.  0.  0. ]\n",
            " [0.  0.  0.  0.5 0. ]]\n"
          ]
        }
      ]
    },
    {
      "cell_type": "code",
      "source": [
        "#Tugas 7 halaman 22\n",
        "myWeb = nx.DiGraph()\n",
        "myPages = range(1,5)\n",
        "\n",
        "#Menghubungkan semuanya secara acak\n",
        "connections = [(1,2), (1,3), (2,4), (3,4), (4,5), (5,3), (4,3)]\n",
        "myWeb.add_nodes_from(myPages)\n",
        "myWeb.add_edges_from(connections)\n",
        "#Melakukan Plottinh\n",
        "pos = nx.spectral_layout(myWeb)\n",
        "nx.draw(myWeb, pos, arrows=True, with_labels=True)\n",
        "plt.show()"
      ],
      "metadata": {
        "colab": {
          "base_uri": "https://localhost:8080/",
          "height": 319
        },
        "id": "BH5NHBJ5SYid",
        "outputId": "9b75333f-c8dd-46f1-c3cb-a8cf6eb197f9"
      },
      "execution_count": null,
      "outputs": [
        {
          "output_type": "display_data",
          "data": {
            "text/plain": [
              "<Figure size 432x288 with 1 Axes>"
            ],
            "image/png": "[encoded data removed]"
          },
          "metadata": {}
        }
      ]
    },
    {
      "cell_type": "code",
      "source": [
        "def createPageRank(aGraph):\n",
        "  nodes_set = len(aGraph)\n",
        "  M = nx.to_numpy_matrix(aGraph)\n",
        "  outwards = np.squeeze(np.asarray(np.sum(M, axis=1)))\n",
        "  prob_outwards = np.array(\n",
        "      [1.0/count\n",
        "       if count>0 else 0.0 for count in outwards])\n",
        "  A = np.asarray(np.multiply(M.T, prob_outwards))\n",
        "  p = np.ones(nodes_set)/float(nodes_set)\n",
        "  if np.min(np.sum(A, axis=0))<1.0:\n",
        "    print('WARN: A is substochastic')\n",
        "  return A,p\n",
        "A, p = createPageRank(myWeb)\n",
        "print(A)"
      ],
      "metadata": {
        "colab": {
          "base_uri": "https://localhost:8080/"
        },
        "id": "AMFZ1g9UTNzA",
        "outputId": "ce54514b-93fe-4add-a349-a68dd6de3ce8"
      },
      "execution_count": null,
      "outputs": [
        {
          "output_type": "stream",
          "name": "stdout",
          "text": [
            "[[0.  0.  0.  0.  0. ]\n",
            " [0.5 0.  0.  0.  0. ]\n",
            " [0.5 0.  0.  0.5 1. ]\n",
            " [0.  1.  1.  0.  0. ]\n",
            " [0.  0.  0.  0.5 0. ]]\n"
          ]
        }
      ]
    }
  ]
}